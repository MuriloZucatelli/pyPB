{
 "cells": [
  {
   "cell_type": "code",
   "execution_count": 1,
   "metadata": {},
   "outputs": [],
   "source": [
    "from numpy import array, where, delete"
   ]
  },
  {
   "cell_type": "code",
   "execution_count": 2,
   "metadata": {},
   "outputs": [],
   "source": [
    "xi = array([1,2,3])"
   ]
  },
  {
   "cell_type": "code",
   "execution_count": 3,
   "metadata": {},
   "outputs": [],
   "source": [
    "Xjk = array([xi+xi[i] for i in range(len(xi))])"
   ]
  },
  {
   "cell_type": "code",
   "execution_count": 8,
   "metadata": {},
   "outputs": [
    {
     "data": {
      "text/plain": [
       "array([[2, 3, 4],\n",
       "       [3, 4, 5],\n",
       "       [4, 5, 6]])"
      ]
     },
     "execution_count": 8,
     "metadata": {},
     "output_type": "execute_result"
    }
   ],
   "source": [
    "Xjk"
   ]
  },
  {
   "cell_type": "code",
   "execution_count": 15,
   "metadata": {},
   "outputs": [],
   "source": [
    "cond = dict()\n",
    "condjbk = dict()\n",
    "for i in range(len(xi)):\n",
    "    if i == 0:\n",
    "        condicao_sup = Xjk <= xi[i+1]\n",
    "        cond[i] = array(where(condicao_sup))\n",
    "    elif i == len(xi)-1:\n",
    "        condicao_inf = Xjk >= xi[i-1]\n",
    "        cond[i] = array(where(condicao_inf))\n",
    "    else:\n",
    "        condicao_inf = Xjk >= xi[i-1]\n",
    "        condicao_sup = Xjk <= xi[i+1]\n",
    "        cond[i] = array(where(condicao_inf & condicao_sup))\n",
    "\n",
    "# Eliminando os pares onde j é menor do que k\n",
    "for i in range(len(xi)):\n",
    "    jbk = where(cond[i][0,:] - cond[i][1,:] < 0)\n",
    "    condjbk[i] = delete(cond[i], jbk, axis=1)"
   ]
  },
  {
   "cell_type": "code",
   "execution_count": 17,
   "metadata": {},
   "outputs": [
    {
     "data": {
      "text/plain": [
       "{0: array([[0],\n",
       "        [0]], dtype=int64),\n",
       " 1: array([[0, 1],\n",
       "        [0, 0]], dtype=int64),\n",
       " 2: array([[0, 1, 1, 2, 2, 2],\n",
       "        [0, 0, 1, 0, 1, 2]], dtype=int64)}"
      ]
     },
     "execution_count": 17,
     "metadata": {},
     "output_type": "execute_result"
    }
   ],
   "source": [
    "condjbk"
   ]
  },
  {
   "cell_type": "code",
   "execution_count": 21,
   "metadata": {},
   "outputs": [
    {
     "data": {
      "text/plain": [
       "array([[0, 1],\n",
       "       [0, 0]], dtype=int64)"
      ]
     },
     "execution_count": 21,
     "metadata": {},
     "output_type": "execute_result"
    }
   ],
   "source": [
    "condjbk[1]"
   ]
  },
  {
   "cell_type": "code",
   "execution_count": 25,
   "metadata": {},
   "outputs": [
    {
     "name": "stdout",
     "output_type": "stream",
     "text": [
      "0 0\n",
      "1 0\n"
     ]
    }
   ],
   "source": [
    "for j,k in zip(condjbk[1][0,:], condjbk[1][1,:]):\n",
    "    print(j,k)"
   ]
  }
 ],
 "metadata": {
  "kernelspec": {
   "display_name": "venvpbe",
   "language": "python",
   "name": "python3"
  },
  "language_info": {
   "codemirror_mode": {
    "name": "ipython",
    "version": 3
   },
   "file_extension": ".py",
   "mimetype": "text/x-python",
   "name": "python",
   "nbconvert_exporter": "python",
   "pygments_lexer": "ipython3",
   "version": "3.10.13"
  }
 },
 "nbformat": 4,
 "nbformat_minor": 2
}
