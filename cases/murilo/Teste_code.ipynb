{
 "cells": [
  {
   "cell_type": "markdown",
   "metadata": {},
   "source": [
    "# Importa dependências"
   ]
  },
  {
   "cell_type": "code",
   "execution_count": 1,
   "metadata": {},
   "outputs": [],
   "source": [
    "from numpy import arange, abs, array, pi, set_printoptions, diff\n",
    "\n",
    "# from numpy import genfromtxt, zeros_like\n",
    "# from scipy.optimize import minimize, differential_evolution\n",
    "from sys import path as sph\n",
    "from os.path import join, abspath, dirname\n",
    "from pandas import read_excel\n",
    "\n",
    "# import time\n",
    "# import pickle\n",
    "# import matplotlib.pyplot as plt\n",
    "\n",
    "dir = dirname(\n",
    "    r\"c:\\\\Users\\\\INTEL\\\\Documents\\\\MEGA\\\\Mestrado\\\\00 Circuito DTG\\\\3. pyPB\\\\cases\\\\murilo\\\\teste1_calculate.py\"\n",
    ")\n",
    "sph.append(abspath(join(dir, \"..\\\\..\\\\..\\\\2. APP/\")))\n",
    "sph.append(abspath(join(dir, \"..\\\\..\")))\n",
    "from pbe.app.dtg_class import (\n",
    "    DTGSolution,\n",
    "    Import_flow_DSD2,\n",
    "    DTG_experiment,\n",
    "    get_location,\n",
    ")\n",
    "\n",
    "set_printoptions(precision=4)"
   ]
  },
  {
   "cell_type": "markdown",
   "metadata": {},
   "source": [
    "# Importa os testes"
   ]
  },
  {
   "cell_type": "code",
   "execution_count": 2,
   "metadata": {},
   "outputs": [],
   "source": [
    "pasta = r\"Documents\\\\MEGA\\\\Mestrado\\\\00 Circuito DTG\\\\6. Compilado\\\\LP_PB\"\n",
    "experiments = Import_flow_DSD2(get_location(pasta), teste={88: {1, 2}})"
   ]
  },
  {
   "cell_type": "code",
   "execution_count": 3,
   "metadata": {},
   "outputs": [
    {
     "data": {
      "text/html": [
       "<div>\n",
       "<style scoped>\n",
       "    .dataframe tbody tr th:only-of-type {\n",
       "        vertical-align: middle;\n",
       "    }\n",
       "\n",
       "    .dataframe tbody tr th {\n",
       "        vertical-align: top;\n",
       "    }\n",
       "\n",
       "    .dataframe thead th {\n",
       "        text-align: right;\n",
       "    }\n",
       "</style>\n",
       "<table border=\"1\" class=\"dataframe\">\n",
       "  <thead>\n",
       "    <tr style=\"text-align: right;\">\n",
       "      <th></th>\n",
       "      <th>N_escoam</th>\n",
       "      <th>Marco</th>\n",
       "      <th>tipo</th>\n",
       "      <th>ID</th>\n",
       "      <th>local</th>\n",
       "      <th>tempo</th>\n",
       "      <th>We</th>\n",
       "      <th>dinf</th>\n",
       "      <th>dsup</th>\n",
       "      <th>freq_v</th>\n",
       "      <th>freq_n</th>\n",
       "      <th>acum_v</th>\n",
       "      <th>GV_ANM</th>\n",
       "      <th>GV_choke</th>\n",
       "      <th>d_med</th>\n",
       "    </tr>\n",
       "  </thead>\n",
       "  <tbody>\n",
       "    <tr>\n",
       "      <th>168</th>\n",
       "      <td>88</td>\n",
       "      <td>1.0</td>\n",
       "      <td>extrator</td>\n",
       "      <td>3</td>\n",
       "      <td>3</td>\n",
       "      <td>NaN</td>\n",
       "      <td>6.04</td>\n",
       "      <td>0.050</td>\n",
       "      <td>0.056</td>\n",
       "      <td>0.0</td>\n",
       "      <td>0.0</td>\n",
       "      <td>0.0</td>\n",
       "      <td>100.0</td>\n",
       "      <td>100.0</td>\n",
       "      <td>0.0530</td>\n",
       "    </tr>\n",
       "    <tr>\n",
       "      <th>169</th>\n",
       "      <td>88</td>\n",
       "      <td>1.0</td>\n",
       "      <td>extrator</td>\n",
       "      <td>3</td>\n",
       "      <td>3</td>\n",
       "      <td>NaN</td>\n",
       "      <td>6.04</td>\n",
       "      <td>0.056</td>\n",
       "      <td>0.063</td>\n",
       "      <td>0.0</td>\n",
       "      <td>0.0</td>\n",
       "      <td>0.0</td>\n",
       "      <td>100.0</td>\n",
       "      <td>100.0</td>\n",
       "      <td>0.0595</td>\n",
       "    </tr>\n",
       "    <tr>\n",
       "      <th>170</th>\n",
       "      <td>88</td>\n",
       "      <td>1.0</td>\n",
       "      <td>extrator</td>\n",
       "      <td>3</td>\n",
       "      <td>3</td>\n",
       "      <td>NaN</td>\n",
       "      <td>6.04</td>\n",
       "      <td>0.063</td>\n",
       "      <td>0.072</td>\n",
       "      <td>0.0</td>\n",
       "      <td>0.0</td>\n",
       "      <td>0.0</td>\n",
       "      <td>100.0</td>\n",
       "      <td>100.0</td>\n",
       "      <td>0.0675</td>\n",
       "    </tr>\n",
       "    <tr>\n",
       "      <th>171</th>\n",
       "      <td>88</td>\n",
       "      <td>1.0</td>\n",
       "      <td>extrator</td>\n",
       "      <td>3</td>\n",
       "      <td>3</td>\n",
       "      <td>NaN</td>\n",
       "      <td>6.04</td>\n",
       "      <td>0.072</td>\n",
       "      <td>0.081</td>\n",
       "      <td>0.0</td>\n",
       "      <td>0.0</td>\n",
       "      <td>0.0</td>\n",
       "      <td>100.0</td>\n",
       "      <td>100.0</td>\n",
       "      <td>0.0765</td>\n",
       "    </tr>\n",
       "    <tr>\n",
       "      <th>172</th>\n",
       "      <td>88</td>\n",
       "      <td>1.0</td>\n",
       "      <td>extrator</td>\n",
       "      <td>3</td>\n",
       "      <td>3</td>\n",
       "      <td>NaN</td>\n",
       "      <td>6.04</td>\n",
       "      <td>0.081</td>\n",
       "      <td>0.092</td>\n",
       "      <td>0.0</td>\n",
       "      <td>0.0</td>\n",
       "      <td>0.0</td>\n",
       "      <td>100.0</td>\n",
       "      <td>100.0</td>\n",
       "      <td>0.0865</td>\n",
       "    </tr>\n",
       "    <tr>\n",
       "      <th>...</th>\n",
       "      <td>...</td>\n",
       "      <td>...</td>\n",
       "      <td>...</td>\n",
       "      <td>...</td>\n",
       "      <td>...</td>\n",
       "      <td>...</td>\n",
       "      <td>...</td>\n",
       "      <td>...</td>\n",
       "      <td>...</td>\n",
       "      <td>...</td>\n",
       "      <td>...</td>\n",
       "      <td>...</td>\n",
       "      <td>...</td>\n",
       "      <td>...</td>\n",
       "      <td>...</td>\n",
       "    </tr>\n",
       "    <tr>\n",
       "      <th>247</th>\n",
       "      <td>88</td>\n",
       "      <td>1.0</td>\n",
       "      <td>extrator</td>\n",
       "      <td>3</td>\n",
       "      <td>3</td>\n",
       "      <td>NaN</td>\n",
       "      <td>6.04</td>\n",
       "      <td>812.000</td>\n",
       "      <td>918.100</td>\n",
       "      <td>0.0</td>\n",
       "      <td>0.0</td>\n",
       "      <td>100.0</td>\n",
       "      <td>100.0</td>\n",
       "      <td>100.0</td>\n",
       "      <td>865.0500</td>\n",
       "    </tr>\n",
       "    <tr>\n",
       "      <th>248</th>\n",
       "      <td>88</td>\n",
       "      <td>1.0</td>\n",
       "      <td>extrator</td>\n",
       "      <td>3</td>\n",
       "      <td>3</td>\n",
       "      <td>NaN</td>\n",
       "      <td>6.04</td>\n",
       "      <td>918.100</td>\n",
       "      <td>1037.000</td>\n",
       "      <td>0.0</td>\n",
       "      <td>0.0</td>\n",
       "      <td>100.0</td>\n",
       "      <td>100.0</td>\n",
       "      <td>100.0</td>\n",
       "      <td>977.5500</td>\n",
       "    </tr>\n",
       "    <tr>\n",
       "      <th>249</th>\n",
       "      <td>88</td>\n",
       "      <td>1.0</td>\n",
       "      <td>extrator</td>\n",
       "      <td>3</td>\n",
       "      <td>3</td>\n",
       "      <td>NaN</td>\n",
       "      <td>6.04</td>\n",
       "      <td>1037.000</td>\n",
       "      <td>1173.000</td>\n",
       "      <td>0.0</td>\n",
       "      <td>0.0</td>\n",
       "      <td>100.0</td>\n",
       "      <td>100.0</td>\n",
       "      <td>100.0</td>\n",
       "      <td>1105.0000</td>\n",
       "    </tr>\n",
       "    <tr>\n",
       "      <th>250</th>\n",
       "      <td>88</td>\n",
       "      <td>1.0</td>\n",
       "      <td>extrator</td>\n",
       "      <td>3</td>\n",
       "      <td>3</td>\n",
       "      <td>NaN</td>\n",
       "      <td>6.04</td>\n",
       "      <td>1173.000</td>\n",
       "      <td>1326.000</td>\n",
       "      <td>0.0</td>\n",
       "      <td>0.0</td>\n",
       "      <td>100.0</td>\n",
       "      <td>100.0</td>\n",
       "      <td>100.0</td>\n",
       "      <td>1249.5000</td>\n",
       "    </tr>\n",
       "    <tr>\n",
       "      <th>251</th>\n",
       "      <td>88</td>\n",
       "      <td>1.0</td>\n",
       "      <td>extrator</td>\n",
       "      <td>3</td>\n",
       "      <td>3</td>\n",
       "      <td>NaN</td>\n",
       "      <td>6.04</td>\n",
       "      <td>1326.000</td>\n",
       "      <td>1500.000</td>\n",
       "      <td>0.0</td>\n",
       "      <td>0.0</td>\n",
       "      <td>100.0</td>\n",
       "      <td>100.0</td>\n",
       "      <td>100.0</td>\n",
       "      <td>1413.0000</td>\n",
       "    </tr>\n",
       "  </tbody>\n",
       "</table>\n",
       "<p>84 rows × 15 columns</p>\n",
       "</div>"
      ],
      "text/plain": [
       "     N_escoam  Marco      tipo  ID local  tempo    We      dinf      dsup  \\\n",
       "168        88    1.0  extrator   3     3    NaN  6.04     0.050     0.056   \n",
       "169        88    1.0  extrator   3     3    NaN  6.04     0.056     0.063   \n",
       "170        88    1.0  extrator   3     3    NaN  6.04     0.063     0.072   \n",
       "171        88    1.0  extrator   3     3    NaN  6.04     0.072     0.081   \n",
       "172        88    1.0  extrator   3     3    NaN  6.04     0.081     0.092   \n",
       "..        ...    ...       ...  ..   ...    ...   ...       ...       ...   \n",
       "247        88    1.0  extrator   3     3    NaN  6.04   812.000   918.100   \n",
       "248        88    1.0  extrator   3     3    NaN  6.04   918.100  1037.000   \n",
       "249        88    1.0  extrator   3     3    NaN  6.04  1037.000  1173.000   \n",
       "250        88    1.0  extrator   3     3    NaN  6.04  1173.000  1326.000   \n",
       "251        88    1.0  extrator   3     3    NaN  6.04  1326.000  1500.000   \n",
       "\n",
       "     freq_v  freq_n  acum_v  GV_ANM  GV_choke      d_med  \n",
       "168     0.0     0.0     0.0   100.0     100.0     0.0530  \n",
       "169     0.0     0.0     0.0   100.0     100.0     0.0595  \n",
       "170     0.0     0.0     0.0   100.0     100.0     0.0675  \n",
       "171     0.0     0.0     0.0   100.0     100.0     0.0765  \n",
       "172     0.0     0.0     0.0   100.0     100.0     0.0865  \n",
       "..      ...     ...     ...     ...       ...        ...  \n",
       "247     0.0     0.0   100.0   100.0     100.0   865.0500  \n",
       "248     0.0     0.0   100.0   100.0     100.0   977.5500  \n",
       "249     0.0     0.0   100.0   100.0     100.0  1105.0000  \n",
       "250     0.0     0.0   100.0   100.0     100.0  1249.5000  \n",
       "251     0.0     0.0   100.0   100.0     100.0  1413.0000  \n",
       "\n",
       "[84 rows x 15 columns]"
      ]
     },
     "execution_count": 3,
     "metadata": {},
     "output_type": "execute_result"
    }
   ],
   "source": [
    "experiments.select_DTG(X=[\"E_ANM\", \"E_FlowLine\"])\n",
    "experiments.select_DTG(X=[\"E_ANM\"])\n",
    "# Como obter apenas uma DTG:\n",
    "# ID vem de:\n",
    "# experiments.compares['E_ANM'][0] ou [1], 0: antes, [1]: depois\n",
    "# ID = experiments.compares['E_ANM'][0] ou experiments.compares['E_ANM'][1]\n",
    "experiments.get_DTG(teste=88, marco=1, ID=3)"
   ]
  },
  {
   "cell_type": "markdown",
   "metadata": {},
   "source": [
    "# Calcula ou importa a perda de carga e propriedades"
   ]
  },
  {
   "cell_type": "code",
   "execution_count": 4,
   "metadata": {},
   "outputs": [
    {
     "data": {
      "text/plain": [
       "<pbe.app.dtg_class.Import_flow_DSD2 at 0x23dbce57d30>"
      ]
     },
     "execution_count": 4,
     "metadata": {},
     "output_type": "execute_result"
    }
   ],
   "source": [
    "experiments.calc_DP_GV()\n",
    "experiments.get_prop(dir)"
   ]
  },
  {
   "cell_type": "markdown",
   "metadata": {},
   "source": [
    "# Define todos os dados experimentais em um objeto só"
   ]
  },
  {
   "cell_type": "code",
   "execution_count": 5,
   "metadata": {},
   "outputs": [
    {
     "data": {
      "text/plain": [
       "<pbe.app.dtg_class.Import_flow_DSD2 at 0x23dbce57d30>"
      ]
     },
     "execution_count": 5,
     "metadata": {},
     "output_type": "execute_result"
    }
   ],
   "source": [
    "experiments.preparaDados()"
   ]
  },
  {
   "cell_type": "code",
   "execution_count": 6,
   "metadata": {},
   "outputs": [
    {
     "data": {
      "text/html": [
       "<div>\n",
       "<style scoped>\n",
       "    .dataframe tbody tr th:only-of-type {\n",
       "        vertical-align: middle;\n",
       "    }\n",
       "\n",
       "    .dataframe tbody tr th {\n",
       "        vertical-align: top;\n",
       "    }\n",
       "\n",
       "    .dataframe thead th {\n",
       "        text-align: right;\n",
       "    }\n",
       "</style>\n",
       "<table border=\"1\" class=\"dataframe\">\n",
       "  <thead>\n",
       "    <tr style=\"text-align: right;\">\n",
       "      <th></th>\n",
       "      <th>N_emul</th>\n",
       "      <th>N_escoam</th>\n",
       "      <th>C_agua [%]</th>\n",
       "      <th>Marco</th>\n",
       "      <th>ANM</th>\n",
       "      <th>TIT-02[°C]</th>\n",
       "      <th>Densidade[kg/m³]</th>\n",
       "      <th>FT-01[kg/min]</th>\n",
       "      <th>DP[bar]</th>\n",
       "      <th>Saline Water [Pa.s]</th>\n",
       "      <th>Saline Water [kg/m³]</th>\n",
       "      <th>AW68 [Pa.s]</th>\n",
       "      <th>AW68 [kg/m³]</th>\n",
       "      <th>W/O [Pa.s]</th>\n",
       "      <th>W/O [kg/m³]</th>\n",
       "      <th>sigma [N/m]</th>\n",
       "    </tr>\n",
       "  </thead>\n",
       "  <tbody>\n",
       "    <tr>\n",
       "      <th>0</th>\n",
       "      <td>48</td>\n",
       "      <td>88</td>\n",
       "      <td>1</td>\n",
       "      <td>1</td>\n",
       "      <td>100</td>\n",
       "      <td>21.496962</td>\n",
       "      <td>874.041658</td>\n",
       "      <td>29.982250</td>\n",
       "      <td>0.798624</td>\n",
       "      <td>0.001070</td>\n",
       "      <td>1022.020652</td>\n",
       "      <td>0.150081</td>\n",
       "      <td>871.835006</td>\n",
       "      <td>0.138214</td>\n",
       "      <td>873.336481</td>\n",
       "      <td>0.0045</td>\n",
       "    </tr>\n",
       "    <tr>\n",
       "      <th>1</th>\n",
       "      <td>48</td>\n",
       "      <td>88</td>\n",
       "      <td>1</td>\n",
       "      <td>2</td>\n",
       "      <td>60</td>\n",
       "      <td>21.605671</td>\n",
       "      <td>874.189594</td>\n",
       "      <td>29.998394</td>\n",
       "      <td>0.805462</td>\n",
       "      <td>0.001068</td>\n",
       "      <td>1021.990249</td>\n",
       "      <td>0.149517</td>\n",
       "      <td>871.766778</td>\n",
       "      <td>0.137710</td>\n",
       "      <td>873.268900</td>\n",
       "      <td>0.0045</td>\n",
       "    </tr>\n",
       "  </tbody>\n",
       "</table>\n",
       "</div>"
      ],
      "text/plain": [
       "   N_emul  N_escoam  C_agua [%]  Marco  ANM  TIT-02[°C]  Densidade[kg/m³]  \\\n",
       "0      48        88           1      1  100   21.496962        874.041658   \n",
       "1      48        88           1      2   60   21.605671        874.189594   \n",
       "\n",
       "   FT-01[kg/min]   DP[bar]  Saline Water [Pa.s]  Saline Water [kg/m³]  \\\n",
       "0      29.982250  0.798624             0.001070           1022.020652   \n",
       "1      29.998394  0.805462             0.001068           1021.990249   \n",
       "\n",
       "   AW68 [Pa.s]  AW68 [kg/m³]  W/O [Pa.s]  W/O [kg/m³]  sigma [N/m]  \n",
       "0     0.150081    871.835006    0.138214   873.336481       0.0045  \n",
       "1     0.149517    871.766778    0.137710   873.268900       0.0045  "
      ]
     },
     "execution_count": 6,
     "metadata": {},
     "output_type": "execute_result"
    }
   ],
   "source": [
    "experiments.dados"
   ]
  },
  {
   "cell_type": "markdown",
   "metadata": {},
   "source": [
    "# Define a malha do balanço populacional"
   ]
  },
  {
   "cell_type": "code",
   "execution_count": 16,
   "metadata": {},
   "outputs": [
    {
     "name": "stdout",
     "output_type": "stream",
     "text": [
      "Ja reduzido\n",
      "Ja reduzido\n"
     ]
    }
   ],
   "source": [
    "# Obtem as classe do Bettersizer e define a malha\n",
    "# Create mesh\n",
    "x = read_excel(dir + \"/classes.xlsx\")\n",
    "# diameter is in micrometer and volume is in mm³\n",
    "d, v = x[\"d\"].to_numpy(), x[\"v [mm³]\"].to_numpy()\n",
    "dxi = diff(v)\n",
    "xi = v[:-1] + diff(v) / 2\n",
    "# Remover classes zeros\n",
    "sl = slice(8, -12)\n",
    "dxi, xi = dxi[sl], xi[sl]\n",
    "M = len(xi)\n",
    "\n",
    "experiments.reduce_DTG(M, sl)"
   ]
  },
  {
   "cell_type": "markdown",
   "metadata": {},
   "source": [
    "# Define a função de simulação"
   ]
  },
  {
   "cell_type": "code",
   "execution_count": 60,
   "metadata": {},
   "outputs": [],
   "source": [
    "def teste1_solve(M, xi, dxi, C, t, IDs, marco, exp, data):\n",
    "    mp = array(C)\n",
    "    #mp[3] *= 1e13\n",
    "    pbe_solutions = DTGSolution(\n",
    "        M=M,\n",
    "        xi=xi,\n",
    "        dxi=dxi,\n",
    "        time=t,\n",
    "        exp=exp,\n",
    "        data=data,\n",
    "        IDs=IDs,\n",
    "        marco=marco,\n",
    "        model_parameters=mp,\n",
    "    )\n",
    "\n",
    "    return pbe_solutions"
   ]
  },
  {
   "cell_type": "markdown",
   "metadata": {},
   "source": [
    "# Roda a simulação"
   ]
  },
  {
   "cell_type": "code",
   "execution_count": 17,
   "metadata": {},
   "outputs": [
    {
     "data": {
      "text/plain": [
       "array([1.4995e-12, 2.1698e-12, 3.1392e-12, 4.5653e-12, 6.6097e-12,\n",
       "       9.5221e-12, 1.3808e-11, 1.9995e-11, 2.8820e-11, 4.1668e-11,\n",
       "       6.0212e-11, 8.7162e-11, 1.2619e-10, 1.8197e-10, 2.6311e-10,\n",
       "       3.8018e-10, 5.4969e-10, 7.9480e-10, 1.1487e-09, 1.6597e-09,\n",
       "       2.3981e-09, 3.4652e-09, 5.0098e-09, 7.2422e-09, 1.0462e-08,\n",
       "       1.5120e-08, 2.1857e-08, 3.1591e-08, 4.5644e-08, 6.5949e-08,\n",
       "       9.5299e-08, 1.3774e-07, 1.9908e-07, 2.8770e-07, 4.1575e-07,\n",
       "       5.9991e-07, 8.6674e-07, 1.2527e-06, 1.8105e-06, 2.6150e-06,\n",
       "       3.7804e-06, 5.4669e-06, 7.9020e-06, 1.1419e-05, 1.6503e-05,\n",
       "       2.3850e-05, 3.4463e-05, 4.9812e-05, 7.1987e-05, 1.0404e-04,\n",
       "       1.5037e-04, 2.1732e-04, 3.1400e-04, 4.5369e-04, 6.5498e-04,\n",
       "       9.4624e-04, 1.3675e-03, 1.9777e-03, 2.8597e-03, 4.1320e-03,\n",
       "       5.9713e-03, 8.6253e-03, 1.2466e-02, 1.8018e-02])"
      ]
     },
     "execution_count": 17,
     "metadata": {},
     "output_type": "execute_result"
    }
   ],
   "source": [
    "xi"
   ]
  },
  {
   "cell_type": "code",
   "execution_count": 67,
   "metadata": {},
   "outputs": [
    {
     "name": "stdout",
     "output_type": "stream",
     "text": [
      "geometric\n"
     ]
    }
   ],
   "source": [
    "C0 = [0.3372, 0.1098, 1.3237e-2, 0.262]\n",
    "t = arange(0.0, 1.0, 0.01)\n",
    "IDs = experiments.compares[\"E_ANM\"]\n",
    "marco = 1\n",
    "sol = teste1_solve(\n",
    "    M, xi/1e9,  # mm³ to m³\n",
    "    dxi/1e9,  # mm³ to m³\n",
    "    C0, t, IDs, marco, experiments.dados.iloc[0], experiments\n",
    ")"
   ]
  },
  {
   "cell_type": "code",
   "execution_count": 68,
   "metadata": {},
   "outputs": [
    {
     "data": {
      "text/plain": [
       "array([1.4995e-21, 2.1698e-21, 3.1392e-21, 4.5653e-21, 6.6097e-21,\n",
       "       9.5221e-21, 1.3808e-20, 1.9995e-20, 2.8820e-20, 4.1668e-20,\n",
       "       6.0212e-20, 8.7162e-20, 1.2619e-19, 1.8197e-19, 2.6311e-19,\n",
       "       3.8018e-19, 5.4969e-19, 7.9480e-19, 1.1487e-18, 1.6597e-18,\n",
       "       2.3981e-18, 3.4652e-18, 5.0098e-18, 7.2422e-18, 1.0462e-17,\n",
       "       1.5120e-17, 2.1857e-17, 3.1591e-17, 4.5644e-17, 6.5949e-17,\n",
       "       9.5299e-17, 1.3774e-16, 1.9908e-16, 2.8770e-16, 4.1575e-16,\n",
       "       5.9991e-16, 8.6674e-16, 1.2527e-15, 1.8105e-15, 2.6150e-15,\n",
       "       3.7804e-15, 5.4669e-15, 7.9020e-15, 1.1419e-14, 1.6503e-14,\n",
       "       2.3850e-14, 3.4463e-14, 4.9812e-14, 7.1987e-14, 1.0404e-13,\n",
       "       1.5037e-13, 2.1732e-13, 3.1400e-13, 4.5369e-13, 6.5498e-13,\n",
       "       9.4624e-13, 1.3675e-12, 1.9777e-12, 2.8597e-12, 4.1320e-12,\n",
       "       5.9713e-12, 8.6253e-12, 1.2466e-11, 1.8018e-11])"
      ]
     },
     "execution_count": 68,
     "metadata": {},
     "output_type": "execute_result"
    }
   ],
   "source": [
    "sol.moc.xi"
   ]
  },
  {
   "cell_type": "code",
   "execution_count": 69,
   "metadata": {},
   "outputs": [],
   "source": [
    "from numpy import sum, dot\n",
    "from pandas import Series"
   ]
  },
  {
   "cell_type": "code",
   "execution_count": 70,
   "metadata": {},
   "outputs": [
    {
     "data": {
      "text/plain": [
       "0.009999999999978835"
      ]
     },
     "execution_count": 70,
     "metadata": {},
     "output_type": "execute_result"
    }
   ],
   "source": [
    "sol.moc.total_volume"
   ]
  },
  {
   "cell_type": "code",
   "execution_count": 71,
   "metadata": {},
   "outputs": [
    {
     "data": {
      "text/plain": [
       "array([0.01, 0.01, 0.01, 0.01, 0.01, 0.01, 0.01, 0.01, 0.01, 0.01, 0.01,\n",
       "       0.01, 0.01, 0.01, 0.01, 0.01, 0.01, 0.01, 0.01, 0.01, 0.01, 0.01,\n",
       "       0.01, 0.01, 0.01, 0.01, 0.01, 0.01, 0.01, 0.01, 0.01, 0.01, 0.01,\n",
       "       0.01, 0.01, 0.01, 0.01, 0.01, 0.01, 0.01, 0.01, 0.01, 0.01, 0.01,\n",
       "       0.01, 0.01, 0.01, 0.01, 0.01, 0.01, 0.01, 0.01, 0.01, 0.01, 0.01,\n",
       "       0.01, 0.01, 0.01, 0.01, 0.01, 0.01, 0.01, 0.01, 0.01, 0.01, 0.01,\n",
       "       0.01, 0.01, 0.01, 0.01, 0.01, 0.01, 0.01, 0.01, 0.01, 0.01, 0.01,\n",
       "       0.01, 0.01, 0.01, 0.01, 0.01, 0.01, 0.01, 0.01, 0.01, 0.01, 0.01,\n",
       "       0.01, 0.01, 0.01, 0.01, 0.01, 0.01, 0.01, 0.01, 0.01, 0.01, 0.01,\n",
       "       0.01])"
      ]
     },
     "execution_count": 71,
     "metadata": {},
     "output_type": "execute_result"
    }
   ],
   "source": [
    "dot(sol.moc.N, sol.moc.xi)"
   ]
  },
  {
   "cell_type": "code",
   "execution_count": 57,
   "metadata": {},
   "outputs": [
    {
     "data": {
      "text/plain": [
       "array([0.0000e+00, 0.0000e+00, 0.0000e+00, 0.0000e+00, 0.0000e+00,\n",
       "       0.0000e+00, 0.0000e+00, 3.0008e+14, 5.8988e+14, 9.5996e+14,\n",
       "       1.1626e+15, 1.2391e+15, 1.1490e+15, 9.7270e+14, 7.9055e+14,\n",
       "       5.9445e+14, 4.6571e+14, 3.6865e+14, 3.0557e+14, 2.5547e+14,\n",
       "       2.0558e+14, 1.5699e+14, 1.1338e+14, 7.7601e+13, 5.1326e+13,\n",
       "       3.3201e+13, 2.1320e+13, 1.3517e+13, 8.4786e+12, 5.3071e+12,\n",
       "       3.3684e+12, 2.2144e+12, 1.5120e+12, 1.0532e+12, 7.3842e+11,\n",
       "       4.8674e+11, 3.0805e+11, 1.7642e+11, 9.4451e+10, 4.6654e+10,\n",
       "       2.2220e+10, 1.0426e+10, 5.0620e+09, 2.4520e+09, 9.6952e+08,\n",
       "       2.9351e+08, 2.9017e+07, 0.0000e+00, 0.0000e+00, 0.0000e+00,\n",
       "       0.0000e+00, 0.0000e+00, 0.0000e+00, 0.0000e+00, 0.0000e+00,\n",
       "       0.0000e+00, 0.0000e+00, 0.0000e+00, 0.0000e+00, 0.0000e+00,\n",
       "       0.0000e+00, 0.0000e+00, 0.0000e+00, 0.0000e+00])"
      ]
     },
     "execution_count": 57,
     "metadata": {},
     "output_type": "execute_result"
    }
   ],
   "source": [
    "sol.moc.N[0]"
   ]
  },
  {
   "cell_type": "code",
   "execution_count": 31,
   "metadata": {},
   "outputs": [],
   "source": [
    "import matplotlib.pyplot as plt"
   ]
  },
  {
   "cell_type": "code",
   "execution_count": 58,
   "metadata": {},
   "outputs": [
    {
     "data": {
      "text/plain": [
       "[]"
      ]
     },
     "execution_count": 58,
     "metadata": {},
     "output_type": "execute_result"
    },
    {
     "data": {
      "image/png": "[encoded data removed]",
      "text/plain": [
       "<Figure size 640x480 with 1 Axes>"
      ]
     },
     "metadata": {},
     "output_type": "display_data"
    }
   ],
   "source": [
    "a = experiments.get_DTG(teste=88, marco = 1, ID = 2)['d_med']\n",
    "b = experiments.get_DTG(teste=88, marco = 1, ID = 2)['freq_v']\n",
    "plt.plot(a,b)\n",
    "plt.semilogx()"
   ]
  },
  {
   "cell_type": "code",
   "execution_count": 66,
   "metadata": {},
   "outputs": [
    {
     "data": {
      "text/plain": [
       "array([5.3639e-09, 5.3652e-09, 5.3666e-09, 5.3682e-09, 5.3699e-09,\n",
       "       5.3717e-09, 5.3737e-09, 5.3758e-09, 5.3781e-09, 5.3807e-09,\n",
       "       5.3834e-09, 5.3864e-09, 5.3896e-09, 5.3931e-09, 5.3969e-09,\n",
       "       5.4010e-09, 5.4054e-09, 5.4103e-09, 5.4155e-09, 5.4212e-09,\n",
       "       5.4274e-09, 5.4341e-09, 5.4414e-09, 5.4493e-09, 5.4578e-09,\n",
       "       5.4671e-09, 5.4772e-09, 5.4882e-09, 5.5000e-09, 5.5130e-09,\n",
       "       5.5270e-09, 5.5423e-09, 5.5590e-09, 5.5771e-09, 5.5969e-09,\n",
       "       5.6183e-09, 5.6419e-09, 5.6677e-09, 5.6961e-09, 5.7272e-09,\n",
       "       5.7616e-09, 5.7997e-09, 5.8420e-09, 5.8892e-09, 5.9420e-09,\n",
       "       6.0016e-09, 6.0692e-09, 6.1464e-09, 6.2352e-09, 6.3382e-09,\n",
       "       6.4587e-09, 6.6008e-09, 6.7698e-09, 6.9726e-09, 7.2178e-09,\n",
       "       7.5177e-09, 7.8875e-09, 8.3476e-09, 8.9227e-09, 9.6452e-09,\n",
       "       1.0560e-08, 1.1723e-08, 1.3213e-08, 1.5128e-08])"
      ]
     },
     "execution_count": 66,
     "metadata": {},
     "output_type": "execute_result"
    }
   ],
   "source": [
    "sol.moc.Q[-1]"
   ]
  },
  {
   "cell_type": "code",
   "execution_count": 72,
   "metadata": {},
   "outputs": [
    {
     "data": {
      "text/plain": [
       "[]"
      ]
     },
     "execution_count": 72,
     "metadata": {},
     "output_type": "execute_result"
    },
    {
     "data": {
      "image/png": "[encoded data removed]",
      "text/plain": [
       "<Figure size 640x480 with 1 Axes>"
      ]
     },
     "metadata": {},
     "output_type": "display_data"
    }
   ],
   "source": [
    "plt.plot(sol.moc.xi_d*1e6, sol.moc.N[0]/1e9)\n",
    "plt.plot(sol.moc.xi_d*1e6, sol.moc.N[-1]/1e9)\n",
    "plt.xlabel(r'Diameter [$\\mu$m]')\n",
    "plt.ylabel(r'Concentração numérica [1/mm³]')\n",
    "plt.semilogx()\n",
    "plt.semilogy()\n",
    "# Ta certo!"
   ]
  },
  {
   "cell_type": "code",
   "execution_count": 34,
   "metadata": {},
   "outputs": [
    {
     "data": {
      "text/plain": [
       "[]"
      ]
     },
     "execution_count": 34,
     "metadata": {},
     "output_type": "execute_result"
    },
    {
     "data": {
      "image/png": "[encoded data removed]",
      "text/plain": [
       "<Figure size 640x480 with 1 Axes>"
      ]
     },
     "metadata": {},
     "output_type": "display_data"
    }
   ],
   "source": [
    "plt.plot(sol.moc.xi_d*1e6, sol.moc.N[1]/1e9)\n",
    "plt.semilogx()"
   ]
  },
  {
   "cell_type": "code",
   "execution_count": 35,
   "metadata": {},
   "outputs": [
    {
     "data": {
      "text/plain": [
       "1.246949809844661"
      ]
     },
     "execution_count": 35,
     "metadata": {},
     "output_type": "execute_result"
    }
   ],
   "source": [
    "(6 / pi * sum(sol.moc.N[0] * sol.moc.xi) / sum(sol.moc.N[0])) ** (1.0 / 3)*1e6"
   ]
  }
 ],
 "metadata": {
  "kernelspec": {
   "display_name": "Python 3",
   "language": "python",
   "name": "python3"
  },
  "language_info": {
   "codemirror_mode": {
    "name": "ipython",
    "version": 3
   },
   "file_extension": ".py",
   "mimetype": "text/x-python",
   "name": "python",
   "nbconvert_exporter": "python",
   "pygments_lexer": "ipython3",
   "version": "3.10.13"
  }
 },
 "nbformat": 4,
 "nbformat_minor": 2
}
