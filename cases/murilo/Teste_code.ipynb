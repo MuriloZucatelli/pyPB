{
 "cells": [
  {
   "cell_type": "markdown",
   "metadata": {},
   "source": [
    "# Importa dependências"
   ]
  },
  {
   "cell_type": "code",
   "execution_count": 1,
   "metadata": {},
   "outputs": [],
   "source": [
    "from numpy import arange, abs, array, pi, set_printoptions, diff\n",
    "#from numpy import genfromtxt, zeros_like\n",
    "#from scipy.optimize import minimize, differential_evolution\n",
    "from sys import path as sph\n",
    "from os.path import join, abspath, dirname\n",
    "from pandas import read_excel\n",
    "#import time\n",
    "#import pickle\n",
    "#import matplotlib.pyplot as plt\n",
    "import importlib\n",
    "\n",
    "dir = dirname(r'c:\\\\Users\\\\Murilo\\\\OneDrive\\\\NEMOG Murilo\\\\00 Circuito DTG\\\\3. pyPB\\\\cases\\\\murilo\\\\teste1_calculate.py')\n",
    "sph.append(abspath(join(dir, \"..\\\\..\\\\..\\\\2. APP/\")))\n",
    "sph.append(abspath(join(dir, \"..\\\\..\")))\n",
    "from pbe.app.dtg_class import DTGSolution, Import_flow_DSD2, DTG_experiment, get_location\n",
    "\n",
    "set_printoptions(precision=4)"
   ]
  },
  {
   "cell_type": "markdown",
   "metadata": {},
   "source": [
    "# Importa os testes"
   ]
  },
  {
   "cell_type": "code",
   "execution_count": 2,
   "metadata": {},
   "outputs": [],
   "source": [
    "pasta = r\"OneDrive/NEMOG Murilo/00 Circuito DTG/6. Compilado/LP_PB\"\n",
    "experiments = Import_flow_DSD2(get_location(pasta), teste={88:{1,2}})"
   ]
  },
  {
   "cell_type": "code",
   "execution_count": 3,
   "metadata": {},
   "outputs": [],
   "source": [
    "experiments.select_DTG(X=[\"E_ANM\", \"E_FlowLine\"])\n",
    "experiments.select_DTG(X=[\"E_ANM\"])\n",
    "# Como obter apenas uma DTG:\n",
    "# ID vem de:\n",
    "# experiments.compares['E_ANM'][0] ou [1], 0: antes, [1]: depois\n",
    "# ID = experiments.compares['E_ANM'][0] ou experiments.compares['E_ANM'][1]\n",
    "# experiments.get_DTG(teste=88, ID=2)"
   ]
  },
  {
   "cell_type": "code",
   "execution_count": 4,
   "metadata": {},
   "outputs": [
    {
     "data": {
      "text/html": [
       "<div>\n",
       "<style scoped>\n",
       "    .dataframe tbody tr th:only-of-type {\n",
       "        vertical-align: middle;\n",
       "    }\n",
       "\n",
       "    .dataframe tbody tr th {\n",
       "        vertical-align: top;\n",
       "    }\n",
       "\n",
       "    .dataframe thead th {\n",
       "        text-align: right;\n",
       "    }\n",
       "</style>\n",
       "<table border=\"1\" class=\"dataframe\">\n",
       "  <thead>\n",
       "    <tr style=\"text-align: right;\">\n",
       "      <th></th>\n",
       "      <th>N_escoam</th>\n",
       "      <th>Marco</th>\n",
       "      <th>tipo</th>\n",
       "      <th>ID</th>\n",
       "      <th>local</th>\n",
       "      <th>tempo</th>\n",
       "      <th>We</th>\n",
       "      <th>dinf</th>\n",
       "      <th>dsup</th>\n",
       "      <th>freq_v</th>\n",
       "      <th>freq_n</th>\n",
       "      <th>acum_v</th>\n",
       "      <th>GV_ANM</th>\n",
       "      <th>GV_choke</th>\n",
       "      <th>d_med</th>\n",
       "    </tr>\n",
       "  </thead>\n",
       "  <tbody>\n",
       "    <tr>\n",
       "      <th>168</th>\n",
       "      <td>88</td>\n",
       "      <td>1.0</td>\n",
       "      <td>extrator</td>\n",
       "      <td>3</td>\n",
       "      <td>3</td>\n",
       "      <td>NaN</td>\n",
       "      <td>6.04</td>\n",
       "      <td>0.050</td>\n",
       "      <td>0.056</td>\n",
       "      <td>0.0</td>\n",
       "      <td>0.0</td>\n",
       "      <td>0.0</td>\n",
       "      <td>100.0</td>\n",
       "      <td>100.0</td>\n",
       "      <td>0.0530</td>\n",
       "    </tr>\n",
       "    <tr>\n",
       "      <th>169</th>\n",
       "      <td>88</td>\n",
       "      <td>1.0</td>\n",
       "      <td>extrator</td>\n",
       "      <td>3</td>\n",
       "      <td>3</td>\n",
       "      <td>NaN</td>\n",
       "      <td>6.04</td>\n",
       "      <td>0.056</td>\n",
       "      <td>0.063</td>\n",
       "      <td>0.0</td>\n",
       "      <td>0.0</td>\n",
       "      <td>0.0</td>\n",
       "      <td>100.0</td>\n",
       "      <td>100.0</td>\n",
       "      <td>0.0595</td>\n",
       "    </tr>\n",
       "    <tr>\n",
       "      <th>170</th>\n",
       "      <td>88</td>\n",
       "      <td>1.0</td>\n",
       "      <td>extrator</td>\n",
       "      <td>3</td>\n",
       "      <td>3</td>\n",
       "      <td>NaN</td>\n",
       "      <td>6.04</td>\n",
       "      <td>0.063</td>\n",
       "      <td>0.072</td>\n",
       "      <td>0.0</td>\n",
       "      <td>0.0</td>\n",
       "      <td>0.0</td>\n",
       "      <td>100.0</td>\n",
       "      <td>100.0</td>\n",
       "      <td>0.0675</td>\n",
       "    </tr>\n",
       "    <tr>\n",
       "      <th>171</th>\n",
       "      <td>88</td>\n",
       "      <td>1.0</td>\n",
       "      <td>extrator</td>\n",
       "      <td>3</td>\n",
       "      <td>3</td>\n",
       "      <td>NaN</td>\n",
       "      <td>6.04</td>\n",
       "      <td>0.072</td>\n",
       "      <td>0.081</td>\n",
       "      <td>0.0</td>\n",
       "      <td>0.0</td>\n",
       "      <td>0.0</td>\n",
       "      <td>100.0</td>\n",
       "      <td>100.0</td>\n",
       "      <td>0.0765</td>\n",
       "    </tr>\n",
       "    <tr>\n",
       "      <th>172</th>\n",
       "      <td>88</td>\n",
       "      <td>1.0</td>\n",
       "      <td>extrator</td>\n",
       "      <td>3</td>\n",
       "      <td>3</td>\n",
       "      <td>NaN</td>\n",
       "      <td>6.04</td>\n",
       "      <td>0.081</td>\n",
       "      <td>0.092</td>\n",
       "      <td>0.0</td>\n",
       "      <td>0.0</td>\n",
       "      <td>0.0</td>\n",
       "      <td>100.0</td>\n",
       "      <td>100.0</td>\n",
       "      <td>0.0865</td>\n",
       "    </tr>\n",
       "    <tr>\n",
       "      <th>...</th>\n",
       "      <td>...</td>\n",
       "      <td>...</td>\n",
       "      <td>...</td>\n",
       "      <td>...</td>\n",
       "      <td>...</td>\n",
       "      <td>...</td>\n",
       "      <td>...</td>\n",
       "      <td>...</td>\n",
       "      <td>...</td>\n",
       "      <td>...</td>\n",
       "      <td>...</td>\n",
       "      <td>...</td>\n",
       "      <td>...</td>\n",
       "      <td>...</td>\n",
       "      <td>...</td>\n",
       "    </tr>\n",
       "    <tr>\n",
       "      <th>247</th>\n",
       "      <td>88</td>\n",
       "      <td>1.0</td>\n",
       "      <td>extrator</td>\n",
       "      <td>3</td>\n",
       "      <td>3</td>\n",
       "      <td>NaN</td>\n",
       "      <td>6.04</td>\n",
       "      <td>812.000</td>\n",
       "      <td>918.100</td>\n",
       "      <td>0.0</td>\n",
       "      <td>0.0</td>\n",
       "      <td>100.0</td>\n",
       "      <td>100.0</td>\n",
       "      <td>100.0</td>\n",
       "      <td>865.0500</td>\n",
       "    </tr>\n",
       "    <tr>\n",
       "      <th>248</th>\n",
       "      <td>88</td>\n",
       "      <td>1.0</td>\n",
       "      <td>extrator</td>\n",
       "      <td>3</td>\n",
       "      <td>3</td>\n",
       "      <td>NaN</td>\n",
       "      <td>6.04</td>\n",
       "      <td>918.100</td>\n",
       "      <td>1037.000</td>\n",
       "      <td>0.0</td>\n",
       "      <td>0.0</td>\n",
       "      <td>100.0</td>\n",
       "      <td>100.0</td>\n",
       "      <td>100.0</td>\n",
       "      <td>977.5500</td>\n",
       "    </tr>\n",
       "    <tr>\n",
       "      <th>249</th>\n",
       "      <td>88</td>\n",
       "      <td>1.0</td>\n",
       "      <td>extrator</td>\n",
       "      <td>3</td>\n",
       "      <td>3</td>\n",
       "      <td>NaN</td>\n",
       "      <td>6.04</td>\n",
       "      <td>1037.000</td>\n",
       "      <td>1173.000</td>\n",
       "      <td>0.0</td>\n",
       "      <td>0.0</td>\n",
       "      <td>100.0</td>\n",
       "      <td>100.0</td>\n",
       "      <td>100.0</td>\n",
       "      <td>1105.0000</td>\n",
       "    </tr>\n",
       "    <tr>\n",
       "      <th>250</th>\n",
       "      <td>88</td>\n",
       "      <td>1.0</td>\n",
       "      <td>extrator</td>\n",
       "      <td>3</td>\n",
       "      <td>3</td>\n",
       "      <td>NaN</td>\n",
       "      <td>6.04</td>\n",
       "      <td>1173.000</td>\n",
       "      <td>1326.000</td>\n",
       "      <td>0.0</td>\n",
       "      <td>0.0</td>\n",
       "      <td>100.0</td>\n",
       "      <td>100.0</td>\n",
       "      <td>100.0</td>\n",
       "      <td>1249.5000</td>\n",
       "    </tr>\n",
       "    <tr>\n",
       "      <th>251</th>\n",
       "      <td>88</td>\n",
       "      <td>1.0</td>\n",
       "      <td>extrator</td>\n",
       "      <td>3</td>\n",
       "      <td>3</td>\n",
       "      <td>NaN</td>\n",
       "      <td>6.04</td>\n",
       "      <td>1326.000</td>\n",
       "      <td>1500.000</td>\n",
       "      <td>0.0</td>\n",
       "      <td>0.0</td>\n",
       "      <td>100.0</td>\n",
       "      <td>100.0</td>\n",
       "      <td>100.0</td>\n",
       "      <td>1413.0000</td>\n",
       "    </tr>\n",
       "  </tbody>\n",
       "</table>\n",
       "<p>84 rows × 15 columns</p>\n",
       "</div>"
      ],
      "text/plain": [
       "     N_escoam  Marco      tipo  ID local  tempo    We      dinf      dsup  \\\n",
       "168        88    1.0  extrator   3     3    NaN  6.04     0.050     0.056   \n",
       "169        88    1.0  extrator   3     3    NaN  6.04     0.056     0.063   \n",
       "170        88    1.0  extrator   3     3    NaN  6.04     0.063     0.072   \n",
       "171        88    1.0  extrator   3     3    NaN  6.04     0.072     0.081   \n",
       "172        88    1.0  extrator   3     3    NaN  6.04     0.081     0.092   \n",
       "..        ...    ...       ...  ..   ...    ...   ...       ...       ...   \n",
       "247        88    1.0  extrator   3     3    NaN  6.04   812.000   918.100   \n",
       "248        88    1.0  extrator   3     3    NaN  6.04   918.100  1037.000   \n",
       "249        88    1.0  extrator   3     3    NaN  6.04  1037.000  1173.000   \n",
       "250        88    1.0  extrator   3     3    NaN  6.04  1173.000  1326.000   \n",
       "251        88    1.0  extrator   3     3    NaN  6.04  1326.000  1500.000   \n",
       "\n",
       "     freq_v  freq_n  acum_v  GV_ANM  GV_choke      d_med  \n",
       "168     0.0     0.0     0.0   100.0     100.0     0.0530  \n",
       "169     0.0     0.0     0.0   100.0     100.0     0.0595  \n",
       "170     0.0     0.0     0.0   100.0     100.0     0.0675  \n",
       "171     0.0     0.0     0.0   100.0     100.0     0.0765  \n",
       "172     0.0     0.0     0.0   100.0     100.0     0.0865  \n",
       "..      ...     ...     ...     ...       ...        ...  \n",
       "247     0.0     0.0   100.0   100.0     100.0   865.0500  \n",
       "248     0.0     0.0   100.0   100.0     100.0   977.5500  \n",
       "249     0.0     0.0   100.0   100.0     100.0  1105.0000  \n",
       "250     0.0     0.0   100.0   100.0     100.0  1249.5000  \n",
       "251     0.0     0.0   100.0   100.0     100.0  1413.0000  \n",
       "\n",
       "[84 rows x 15 columns]"
      ]
     },
     "execution_count": 4,
     "metadata": {},
     "output_type": "execute_result"
    }
   ],
   "source": [
    "experiments.get_DTG(teste=88, marco=1, ID=3)"
   ]
  },
  {
   "cell_type": "markdown",
   "metadata": {},
   "source": [
    "# Calcula ou importa a perda de carga e propriedades"
   ]
  },
  {
   "cell_type": "code",
   "execution_count": 5,
   "metadata": {},
   "outputs": [
    {
     "data": {
      "text/plain": [
       "<pbe.app.dtg_class.import_flow_DSD2 at 0x23693ca5f40>"
      ]
     },
     "execution_count": 5,
     "metadata": {},
     "output_type": "execute_result"
    }
   ],
   "source": [
    "experiments.calc_DP_GV()\n",
    "experiments.get_prop(dir)"
   ]
  },
  {
   "cell_type": "markdown",
   "metadata": {},
   "source": [
    "# Define todos os dados experimentais em um objeto só"
   ]
  },
  {
   "cell_type": "code",
   "execution_count": 6,
   "metadata": {},
   "outputs": [
    {
     "data": {
      "text/plain": [
       "<pbe.app.dtg_class.import_flow_DSD2 at 0x23693ca5f40>"
      ]
     },
     "execution_count": 6,
     "metadata": {},
     "output_type": "execute_result"
    }
   ],
   "source": [
    "experiments.preparaDados()"
   ]
  },
  {
   "cell_type": "code",
   "execution_count": 7,
   "metadata": {},
   "outputs": [
    {
     "data": {
      "text/html": [
       "<div>\n",
       "<style scoped>\n",
       "    .dataframe tbody tr th:only-of-type {\n",
       "        vertical-align: middle;\n",
       "    }\n",
       "\n",
       "    .dataframe tbody tr th {\n",
       "        vertical-align: top;\n",
       "    }\n",
       "\n",
       "    .dataframe thead th {\n",
       "        text-align: right;\n",
       "    }\n",
       "</style>\n",
       "<table border=\"1\" class=\"dataframe\">\n",
       "  <thead>\n",
       "    <tr style=\"text-align: right;\">\n",
       "      <th></th>\n",
       "      <th>N_emul</th>\n",
       "      <th>N_escoam</th>\n",
       "      <th>C_agua [%]</th>\n",
       "      <th>Marco</th>\n",
       "      <th>ANM</th>\n",
       "      <th>TIT-02[°C]</th>\n",
       "      <th>Densidade[kg/m³]</th>\n",
       "      <th>FT-01[kg/min]</th>\n",
       "      <th>DP[bar]</th>\n",
       "      <th>Saline Water [Pa.s]</th>\n",
       "      <th>Saline Water [kg/m³]</th>\n",
       "      <th>AW68 [Pa.s]</th>\n",
       "      <th>AW68 [kg/m³]</th>\n",
       "      <th>W/O [Pa.s]</th>\n",
       "      <th>W/O [kg/m³]</th>\n",
       "      <th>sigma [N/m]</th>\n",
       "    </tr>\n",
       "  </thead>\n",
       "  <tbody>\n",
       "    <tr>\n",
       "      <th>0</th>\n",
       "      <td>48</td>\n",
       "      <td>88</td>\n",
       "      <td>1</td>\n",
       "      <td>1</td>\n",
       "      <td>100</td>\n",
       "      <td>21.496962</td>\n",
       "      <td>874.041658</td>\n",
       "      <td>29.982250</td>\n",
       "      <td>0.798624</td>\n",
       "      <td>0.001070</td>\n",
       "      <td>1022.020652</td>\n",
       "      <td>0.150081</td>\n",
       "      <td>871.835006</td>\n",
       "      <td>0.138214</td>\n",
       "      <td>873.336481</td>\n",
       "      <td>0.0045</td>\n",
       "    </tr>\n",
       "    <tr>\n",
       "      <th>1</th>\n",
       "      <td>48</td>\n",
       "      <td>88</td>\n",
       "      <td>1</td>\n",
       "      <td>2</td>\n",
       "      <td>60</td>\n",
       "      <td>21.605671</td>\n",
       "      <td>874.189594</td>\n",
       "      <td>29.998394</td>\n",
       "      <td>0.805462</td>\n",
       "      <td>0.001068</td>\n",
       "      <td>1021.990249</td>\n",
       "      <td>0.149517</td>\n",
       "      <td>871.766778</td>\n",
       "      <td>0.137710</td>\n",
       "      <td>873.268900</td>\n",
       "      <td>0.0045</td>\n",
       "    </tr>\n",
       "  </tbody>\n",
       "</table>\n",
       "</div>"
      ],
      "text/plain": [
       "   N_emul  N_escoam  C_agua [%]  Marco  ANM  TIT-02[°C]  Densidade[kg/m³]  \\\n",
       "0      48        88           1      1  100   21.496962        874.041658   \n",
       "1      48        88           1      2   60   21.605671        874.189594   \n",
       "\n",
       "   FT-01[kg/min]   DP[bar]  Saline Water [Pa.s]  Saline Water [kg/m³]  \\\n",
       "0      29.982250  0.798624             0.001070           1022.020652   \n",
       "1      29.998394  0.805462             0.001068           1021.990249   \n",
       "\n",
       "   AW68 [Pa.s]  AW68 [kg/m³]  W/O [Pa.s]  W/O [kg/m³]  sigma [N/m]  \n",
       "0     0.150081    871.835006    0.138214   873.336481       0.0045  \n",
       "1     0.149517    871.766778    0.137710   873.268900       0.0045  "
      ]
     },
     "execution_count": 7,
     "metadata": {},
     "output_type": "execute_result"
    }
   ],
   "source": [
    "experiments.dados"
   ]
  },
  {
   "cell_type": "markdown",
   "metadata": {},
   "source": [
    "# Define a malha do balanço populacional"
   ]
  },
  {
   "cell_type": "code",
   "execution_count": 8,
   "metadata": {},
   "outputs": [],
   "source": [
    "# Obtem as classe do Bettersizer e define a malha\n",
    "# Create mesh\n",
    "x = read_excel(dir + \"/classes.xlsx\")\n",
    "# diameter is in micrometer and volume is in mm³\n",
    "d, v = x[\"d\"].to_numpy(), x[\"v [mm³]\"].to_numpy()\n",
    "dxi = diff(v)\n",
    "xi = v[:-1] + diff(v) / 2\n",
    "# Remover classes zeros\n",
    "sl = slice(8, -12)\n",
    "dxi, xi = dxi[sl], xi[sl]\n",
    "M = len(xi)\n",
    "\n",
    "experiments.reduce_DTG(M, sl)"
   ]
  },
  {
   "cell_type": "markdown",
   "metadata": {},
   "source": [
    "# Define a função de simulação"
   ]
  },
  {
   "cell_type": "code",
   "execution_count": null,
   "metadata": {},
   "outputs": [],
   "source": [
    "def teste1_solve(M, C, exp, data):\n",
    "    mp = array(C)\n",
    "    mp[3] *= 1e13\n",
    "    pbe_solutions = DTGSolution(\n",
    "        M=M,\n",
    "        time=t,\n",
    "        exp=exp,\n",
    "        data=data,\n",
    "        model_parameters=mp,\n",
    "    )\n",
    "\n",
    "    return pbe_solutions\n",
    "\n",
    "\n",
    "C0 = [0.3372, 0.1098, 1.3237, 0.262]\n",
    "t = arange(0.0, 10.0, 0.001)"
   ]
  },
  {
   "cell_type": "markdown",
   "metadata": {},
   "source": [
    "# Roda a simulação"
   ]
  },
  {
   "cell_type": "code",
   "execution_count": null,
   "metadata": {},
   "outputs": [],
   "source": [
    "teste1_solve(M, C0, experiments.dados.iloc[0], experiments)"
   ]
  },
  {
   "cell_type": "code",
   "execution_count": 27,
   "metadata": {},
   "outputs": [
    {
     "data": {
      "text/plain": [
       "N_emul                    48.000000\n",
       "N_escoam                  88.000000\n",
       "C_agua [%]                 1.000000\n",
       "Marco                      1.000000\n",
       "ANM                      100.000000\n",
       "TIT-02[°C]                21.496962\n",
       "Densidade[kg/m³]         874.041658\n",
       "FT-01[kg/min]             29.982250\n",
       "DP[bar]                    0.798624\n",
       "Saline Water [Pa.s]        0.001070\n",
       "Saline Water [kg/m³]    1022.020652\n",
       "AW68 [Pa.s]                0.150081\n",
       "AW68 [kg/m³]             871.835006\n",
       "W/O [Pa.s]                 0.138214\n",
       "W/O [kg/m³]              873.336481\n",
       "sigma [N/m]                0.004500\n",
       "Name: 0, dtype: float64"
      ]
     },
     "execution_count": 27,
     "metadata": {},
     "output_type": "execute_result"
    }
   ],
   "source": [
    "experiments.dados.iloc[0]"
   ]
  },
  {
   "cell_type": "code",
   "execution_count": 32,
   "metadata": {},
   "outputs": [
    {
     "data": {
      "text/plain": [
       "'AW68 [kg/m³]'"
      ]
     },
     "execution_count": 32,
     "metadata": {},
     "output_type": "execute_result"
    }
   ],
   "source": []
  }
 ],
 "metadata": {
  "kernelspec": {
   "display_name": "Python 3",
   "language": "python",
   "name": "python3"
  },
  "language_info": {
   "codemirror_mode": {
    "name": "ipython",
    "version": 3
   },
   "file_extension": ".py",
   "mimetype": "text/x-python",
   "name": "python",
   "nbconvert_exporter": "python",
   "pygments_lexer": "ipython3",
   "version": "3.8.18"
  }
 },
 "nbformat": 4,
 "nbformat_minor": 2
}
